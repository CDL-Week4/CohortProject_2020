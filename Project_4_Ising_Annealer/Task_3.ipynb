{
 "cells": [
  {
   "cell_type": "markdown",
   "metadata": {},
   "source": [
    "# Electronic Structure Calculations using Generalized Ising Hamiltonians\n",
    "\n",
    "Your final task is to calculate the ground state energy of a hydrogen molecule using a Generalized Ising Hamiltonian:\n",
    "\n",
    "$$ \n",
    "H = E_0 + \\sum_i h_i\\sigma_i + \\sum_{ij} J_{ij}\\sigma_i\\sigma_j\n",
    "+ \\sum_{ijk} K_{ijk}\\sigma_i\\sigma_j\\sigma_k\n",
    "+ \\sum_{ijkl} L_{ijkl}\\sigma_i\\sigma_j\\sigma_k\\sigma_l\n",
    "+ \\cdots\n",
    "$$\n",
    "\n",
    "where the Hamiltonian parameters ($E_0, h_i, J_{ij}, K_{ijk}, L_{ijkl}$) will be provided to you by the `read_generalized_ising_hamiltonian` function below.\n",
    "\n",
    "These Ising Hamiltonians were produced using the *Iterative Qubit Coupled Cluster* method (https://arxiv.org/abs/1906.11192).\n",
    "\n",
    "The $H_2$ Ising Hamiltonian only needs 4 spins to fully describe the ground state, hence our Hamiltonian only needs a 4-point interaction at most."
   ]
  },
  {
   "cell_type": "code",
   "execution_count": 1,
   "metadata": {},
   "outputs": [],
   "source": [
    "import string\n",
    "import os\n",
    "import re\n",
    "\n",
    "import numpy as np\n",
    "\n",
    "from abstract_ising import AbstractIsing\n",
    "from ising_animator import IsingAnimator\n",
    "\n",
    "import matplotlib.pyplot as plt\n",
    "\n",
    "%matplotlib inline"
   ]
  },
  {
   "cell_type": "code",
   "execution_count": 2,
   "metadata": {},
   "outputs": [],
   "source": [
    "def read_generalized_ising_hamiltonian(path):\n",
    "    with open(path, \"r\") as f:\n",
    "        f.readline()  # discard first line\n",
    "        compressed_hamiltonian = [\n",
    "            tuple(line.strip().split())\n",
    "            for line in f.readlines()\n",
    "        ]\n",
    "    \n",
    "    num_sites = len(compressed_hamiltonian[0][0])\n",
    "    hamiltonian_terms = [np.zeros((num_sites,)*i) for i in range(num_sites+1)]\n",
    "\n",
    "    for sites, val in compressed_hamiltonian:\n",
    "        num_zs = 0\n",
    "        site_nums = []\n",
    "        for i, x in enumerate(sites):\n",
    "            if x == 'z':\n",
    "                site_nums.append(i)\n",
    "                num_zs += 1\n",
    "\n",
    "        hamiltonian_terms[num_zs][tuple(site_nums)] = float(val)\n",
    "\n",
    "    return hamiltonian_terms"
   ]
  },
  {
   "cell_type": "code",
   "execution_count": 3,
   "metadata": {},
   "outputs": [],
   "source": [
    "E0, h, J, K, L = read_generalized_ising_hamiltonian(\"./hamiltonians/Ising-H2-STO-3G-bk-samespin-R=0.65.inp\")"
   ]
  },
  {
   "cell_type": "markdown",
   "metadata": {},
   "source": [
    "First, you must write a class that describes the Generalized Ising Model given the arrays containing the Hamiltonian parameters. You will need to write a function which computes energy of the stored spin configuration (see the previous tasks for inspiration), as well as a function which computes the change in energy resulting from a single-spin-flip (you could of course use the naive approach and simply compute the energy of two spin configurations and subtract one from the other)."
   ]
  },
  {
   "cell_type": "code",
   "execution_count": 4,
   "metadata": {},
   "outputs": [],
   "source": [
    "# Write a class to describe the generalized Ising Model given its Hamiltonian parameters\n",
    "\n",
    "class GeneralizedIsingModel(AbstractIsing):\n",
    "    def __init__(self, num_spins, coeffs_dct):\n",
    "        \"\"\"\n",
    "        Because this is generalised ising it doesn't make any sense to think about dimensionality of spin lattice\n",
    "        Keep spin lattice as 1d to make indexing simpler. Any concept of dimensionality is baked in with the coefficients\n",
    "        coeffs is dict containing sets of n-local coefficients\n",
    "        each key of the dict denotes n\n",
    "        for example: coeffs[2] is a 2d array of all 2-local coefficients\n",
    "        \"\"\"\n",
    "        assert max(coeffs_dct.keys()) <= 26, f\"Yeah... maybe you're asking for too much here\"\n",
    "        for locality, coeffs in coeffs_dct.items():\n",
    "            assert len(coeffs.shape) == locality, f\"coefficients for key {locality} should have dimensionality {locality}\"\n",
    "        self.num_spins = num_spins # number of spins\n",
    "        self.coeffs_dct = coeffs_dct\n",
    "        # initialize system at infinite temperature\n",
    "        # i.e. spins are completely random and uncorrelated\n",
    "        self.spins = 2*(np.random.rand(self.num_spins) < 0.5) - 1\n",
    "        \n",
    "    def energy(self, spins=None):\n",
    "        spins = self.spins if spins is None else spins\n",
    "        energy = 0\n",
    "        for locality, coeffs in coeffs_dct.items():\n",
    "            if locality == 0:\n",
    "                energy += coeffs\n",
    "            else:\n",
    "                ixs = string.ascii_lowercase[:locality]\n",
    "                subscripts = ixs + ',' + ','.join(ixs)\n",
    "                operands = [coeffs] + [spins] * locality\n",
    "                energy += np.einsum(subscripts, *operands)\n",
    "        return energy\n",
    "    \n",
    "    def energy_diff(self, i):\n",
    "        self.spins[i] *= -1\n",
    "        next_energy = self.energy()\n",
    "        self.spins[i] *= -1\n",
    "        current_energy = self.energy()\n",
    "        diff = next_energy - current_energy\n",
    "        return diff\n",
    "    \n",
    "    def rand_site(self):\n",
    "        \"\"\"Selects a site in the lattice at random\"\"\"\n",
    "        return (np.random.randint(self.num_spins),)"
   ]
  },
  {
   "cell_type": "markdown",
   "metadata": {},
   "source": [
    "Next you'll run a Monte Carlo simulation for this model at some finite temperature for 1000 steps, printing out the energy of the state every so often"
   ]
  },
  {
   "cell_type": "code",
   "execution_count": 5,
   "metadata": {},
   "outputs": [
    {
     "name": "stdout",
     "output_type": "stream",
     "text": [
      "-0.19222515402425988\n",
      "-1.1299047752322906\n",
      "-0.33319337985945596\n",
      "-0.333193379859456\n",
      "-1.1299047752322906\n",
      "-0.40205193171305953\n",
      "0.5724567781741281\n",
      "-0.19222515402425988\n",
      "-1.1299047752322906\n",
      "-0.25924181243352884\n",
      "-1.1299047752322906\n",
      "0.3973123804093819\n",
      "0.5724567781741281\n",
      "-0.4855710768185991\n",
      "-0.485571076818599\n",
      "-0.48557107681859907\n",
      "0.7256454984385436\n",
      "-0.33319337985945596\n",
      "-0.3331933798594562\n",
      "0.39731238040938205\n"
     ]
    }
   ],
   "source": [
    "coeffs_dct = {k: v for k, v in enumerate([E0, h, J, K, L])}\n",
    "ising = GeneralizedIsingModel(4, coeffs_dct)\n",
    "\n",
    "# perform 1000 MC steps\n",
    "for t in range(1000):\n",
    "    # take a look at the abstract_ising.py file to see how mc_step works\n",
    "    E = ising.mc_step(T=1.0)\n",
    "    \n",
    "    if t % 50 == 0:\n",
    "        print(E)"
   ]
  },
  {
   "cell_type": "markdown",
   "metadata": {},
   "source": [
    "Now, apply (one of) the annealing procedure(s) you came up with in the previous task to this problem to find a ground state of the system:"
   ]
  },
  {
   "cell_type": "code",
   "execution_count": 6,
   "metadata": {},
   "outputs": [
    {
     "name": "stdout",
     "output_type": "stream",
     "text": [
      "Minimum energy found by brute force: -1.1299047752322906\n"
     ]
    },
    {
     "data": {
      "image/png": "[encoded data removed]",
      "text/plain": [
       "<Figure size 432x288 with 1 Axes>"
      ]
     },
     "metadata": {
      "needs_background": "light"
     },
     "output_type": "display_data"
    },
    {
     "data": {
      "image/png": "[encoded data removed]",
      "text/plain": [
       "<Figure size 432x288 with 1 Axes>"
      ]
     },
     "metadata": {
      "needs_background": "light"
     },
     "output_type": "display_data"
    },
    {
     "data": {
      "text/plain": [
       "-1.1299047752322906"
      ]
     },
     "execution_count": 6,
     "metadata": {},
     "output_type": "execute_result"
    }
   ],
   "source": [
    "# BRUTE FORCE CALCULATION\n",
    "def get_bf_min(ising):\n",
    "    dim = np.arange(2 ** ising.num_spins)\n",
    "    space = ((dim[:, None] & (1 << np.arange(ising.num_spins))) > 0)\n",
    "    space = 2*space.astype(int) - 1\n",
    "    energies = []\n",
    "    for config in space:\n",
    "        energies.append(ising.energy(config))\n",
    "    return min(energies)\n",
    "\n",
    "def plot_schedule(T):\n",
    "    t = range(len(T))\n",
    "    plt.plot(t, T)\n",
    "    plt.title(\"Temperature schedule\")\n",
    "    plt.ylabel(\"$T$\")\n",
    "    plt.xlabel(\"time\");\n",
    "    plt.show()\n",
    "\n",
    "# this is for all static annealing schedules\n",
    "def create_fixed_schedule(num_steps, T_i, T_f=1.0, form='const', cycle={}, show=True):\n",
    "    \"\"\"\n",
    "    we found linear decay is quite useless\n",
    "    also experimented with adding a exp(sin(t)) multiplier onto the baseline schedule\n",
    "    \"\"\"\n",
    "    implemented = [\n",
    "        'const', # constant\n",
    "        'exp', # exponential decay\n",
    "        'lin', # linear decay\n",
    "    ]\n",
    "    assert form in implemented, f\"form='{form}' not implemented\"\n",
    "    t = np.arange(num_steps+1)\n",
    "    if form == 'const':\n",
    "        T = [T_i] * num_steps\n",
    "    elif form == 'exp':\n",
    "        T = T_i * ((T_f/T_i) ** (t/num_steps))\n",
    "    elif form == 'lin':\n",
    "        T = T_i + (T_f - T_i) * (t/num_steps)\n",
    "    if len(cycle):\n",
    "        amp = cycle['amp']\n",
    "        period = cycle['p']\n",
    "        cyc = amp * np.sin(2*np.pi*np.arange(len(T))/period)\n",
    "        T = T * np.exp(cyc)\n",
    "    if show:\n",
    "        plot_schedule(T)\n",
    "    return T\n",
    "\n",
    "def plot_energy(Es):\n",
    "    plt.plot(Es)\n",
    "    plt.title(\"Energy\")\n",
    "    plt.ylabel(\"$E$\")\n",
    "    plt.xlabel(\"time\");\n",
    "    plt.show()\n",
    "\n",
    "    \n",
    "def run_mc(ising, num_steps, T, verbose=False, do_plot=False):\n",
    "    \"\"\"\n",
    "    Runs MC with a static T schedule\n",
    "    \"\"\"\n",
    "    Es = []\n",
    "    for t in range(num_steps):\n",
    "        E = ising.mc_step(T=T[t])\n",
    "        Es.append(E)\n",
    "        if verbose and t % 100 == 0:\n",
    "            print(E)\n",
    "    if do_plot:\n",
    "        plot_energy(Es)\n",
    "    if verbose:\n",
    "        print(f\"Minimum energy found by MC: {min(Es)}\")\n",
    "    return min(Es)\n",
    "\n",
    "bf_min = get_bf_min(ising)\n",
    "print(f\"Minimum energy found by brute force: {bf_min}\")\n",
    "T = create_fixed_schedule(1000, T_i=1, T_f=0.01, form='exp')\n",
    "run_mc(ising, len(T), T, do_plot=True)"
   ]
  },
  {
   "cell_type": "markdown",
   "metadata": {},
   "source": [
    "Finally, iterate over the entire spin configuration space (this is tractable since we only have 4 spins) to find the exact ground state energy. Compare this energy to the one you found above using your annealer."
   ]
  },
  {
   "cell_type": "code",
   "execution_count": 7,
   "metadata": {},
   "outputs": [],
   "source": [
    "# already did this above"
   ]
  },
  {
   "cell_type": "markdown",
   "metadata": {},
   "source": [
    "Now, clean up your code a little, and write a for-loop that iterates over all the different values of the Hydrogen seperation distance $R$ available in the `hamiltonians` directory. \n",
    "\n",
    "For each $R$ you must:\n",
    "- Read in the associated Ising Hamiltonian\n",
    "- Perform an annealed Monte Carlo simulation to find a candidate ground state energy\n",
    "- Compute the exact ground state energy\n",
    "- Compare the two results"
   ]
  },
  {
   "cell_type": "code",
   "execution_count": 7,
   "metadata": {},
   "outputs": [
    {
     "data": {
      "image/png": "[encoded data removed]",
      "text/plain": [
       "<Figure size 432x288 with 1 Axes>"
      ]
     },
     "metadata": {
      "needs_background": "light"
     },
     "output_type": "display_data"
    },
    {
     "name": "stdout",
     "output_type": "stream",
     "text": [
      "Radii: [0.65, 0.8, 0.95, 1.1, 1.25, 1.4, 1.55, 1.7, 1.85, 2.0, 2.15, 2.3, 2.45, 2.6, 2.75, 2.9, 3.05, 3.2, 3.35, 3.5]\n"
     ]
    },
    {
     "data": {
      "image/png": "[encoded data removed]",
      "text/plain": [
       "<Figure size 432x288 with 1 Axes>"
      ]
     },
     "metadata": {
      "needs_background": "light"
     },
     "output_type": "display_data"
    }
   ],
   "source": [
    "# get ranges from filenames\n",
    "\n",
    "# T schedule\n",
    "T = create_fixed_schedule(1000, T_i=1, T_f=0.01, form='exp')\n",
    "\n",
    "Rs = [] # radii\n",
    "bf_mins = [] # minimum energies found in brute force evaluations\n",
    "mc_mins = [] # minimum energies found in MC evaluations\n",
    "\n",
    "for fp in os.listdir('hamiltonians'):\n",
    "    if 'inp' not in fp:\n",
    "        continue\n",
    "    R = re.search('=([0-9,\\.]+)\\.inp', fp).group(1)\n",
    "    Rs.append(float(R))\n",
    "    E0, h, J, K, L = read_generalized_ising_hamiltonian(f\"./hamiltonians/Ising-H2-STO-3G-bk-samespin-R={R}.inp\")\n",
    "    coeffs_dct = {k: v for k, v in enumerate([E0, h, J, K, L])}\n",
    "    ising = GeneralizedIsingModel(4, coeffs_dct)\n",
    "    bf_mins.append(get_bf_min(ising))\n",
    "    mc_mins.append(run_mc(ising, len(T), T))\n",
    "\n",
    "# plotting\n",
    "bf_mins = [x for _, x in sorted(zip(Rs, bf_mins))]\n",
    "mc_mins = [x for _, x in sorted(zip(Rs, mc_mins))]\n",
    "Rs = sorted(Rs)\n",
    "print(f'Radii: {Rs}')\n",
    "plt.plot(Rs, bf_mins)\n",
    "plt.plot(Rs, mc_mins)\n",
    "plt.title(\"Energy\")\n",
    "plt.ylabel(\"$E$\")\n",
    "plt.xlabel(\"radius\");\n",
    "plt.legend(['Brute force', 'Monte Carlo'])\n",
    "plt.show()"
   ]
  }
 ],
 "metadata": {
  "kernelspec": {
   "display_name": "Python 3",
   "language": "python",
   "name": "python3"
  },
  "language_info": {
   "codemirror_mode": {
    "name": "ipython",
    "version": 3
   },
   "file_extension": ".py",
   "mimetype": "text/x-python",
   "name": "python",
   "nbconvert_exporter": "python",
   "pygments_lexer": "ipython3",
   "version": "3.8.5"
  }
 },
 "nbformat": 4,
 "nbformat_minor": 4
}
