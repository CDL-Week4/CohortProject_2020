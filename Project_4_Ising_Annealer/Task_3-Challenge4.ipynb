{
 "cells": [
  {
   "cell_type": "markdown",
   "metadata": {},
   "source": [
    "# Electronic Structure Calculations using Generalized Ising Hamiltonians\n",
    "\n",
    "Your final task is to calculate the ground state energy of a hydrogen molecule using a Generalized Ising Hamiltonian:\n",
    "\n",
    "$$ \n",
    "H = E_0 + \\sum_i h_i\\sigma_i + \\sum_{ij} J_{ij}\\sigma_i\\sigma_j\n",
    "+ \\sum_{ijk} K_{ijk}\\sigma_i\\sigma_j\\sigma_k\n",
    "+ \\sum_{ijkl} L_{ijkl}\\sigma_i\\sigma_j\\sigma_k\\sigma_l\n",
    "+ \\cdots\n",
    "$$\n",
    "\n",
    "where the Hamiltonian parameters ($E_0, h_i, J_{ij}, K_{ijk}, L_{ijkl}$) will be provided to you by the `read_generalized_ising_hamiltonian` function below.\n",
    "\n",
    "These Ising Hamiltonians were produced using the *Iterative Qubit Coupled Cluster* method (https://arxiv.org/abs/1906.11192).\n",
    "\n",
    "The $H_2$ Ising Hamiltonian only needs 4 spins to fully describe the ground state, hence our Hamiltonian only needs a 4-point interaction at most."
   ]
  },
  {
   "cell_type": "code",
   "execution_count": 1,
   "metadata": {
    "scrolled": false
   },
   "outputs": [],
   "source": [
    "import string\n",
    "import os\n",
    "import re\n",
    "\n",
    "import numpy as np\n",
    "\n",
    "from abstract_ising import AbstractIsing\n",
    "from ising_animator import IsingAnimator\n",
    "\n",
    "import matplotlib.pyplot as plt\n",
    "\n",
    "%matplotlib inline"
   ]
  },
  {
   "cell_type": "code",
   "execution_count": 2,
   "metadata": {
    "scrolled": false
   },
   "outputs": [],
   "source": [
    "def read_generalized_ising_hamiltonian(path):\n",
    "    with open(path, \"r\") as f:\n",
    "        f.readline()  # discard first line\n",
    "        compressed_hamiltonian = [\n",
    "            tuple(line.strip().split())\n",
    "            for line in f.readlines()\n",
    "        ]\n",
    "    \n",
    "    num_sites = len(compressed_hamiltonian[0][0])\n",
    "    hamiltonian_terms = [np.zeros((num_sites,)*i) for i in range(num_sites+1)]\n",
    "\n",
    "    for sites, val in compressed_hamiltonian:\n",
    "        num_zs = 0\n",
    "        site_nums = []\n",
    "        for i, x in enumerate(sites):\n",
    "            if x == 'z':\n",
    "                site_nums.append(i)\n",
    "                num_zs += 1\n",
    "\n",
    "        hamiltonian_terms[num_zs][tuple(site_nums)] = float(val)\n",
    "\n",
    "    return hamiltonian_terms"
   ]
  },
  {
   "cell_type": "code",
   "execution_count": 3,
   "metadata": {
    "scrolled": false
   },
   "outputs": [],
   "source": [
    "E0, h, J, K, L = read_generalized_ising_hamiltonian(\"./hamiltonians/Ising-H2-STO-3G-bk-samespin-R=0.65.inp\")"
   ]
  },
  {
   "cell_type": "markdown",
   "metadata": {},
   "source": [
    "First, you must write a class that describes the Generalized Ising Model given the arrays containing the Hamiltonian parameters. You will need to write a function which computes energy of the stored spin configuration (see the previous tasks for inspiration), as well as a function which computes the change in energy resulting from a single-spin-flip (you could of course use the naive approach and simply compute the energy of two spin configurations and subtract one from the other)."
   ]
  },
  {
   "cell_type": "code",
   "execution_count": 4,
   "metadata": {
    "scrolled": false
   },
   "outputs": [],
   "source": [
    "# Write a class to describe the generalized Ising Model given its Hamiltonian parameters\n",
    "\n",
    "class GeneralizedIsingModel(AbstractIsing):\n",
    "    def __init__(self, num_spins, coeffs_dct, binary=False):\n",
    "        \"\"\"\n",
    "        Because this is generalised ising it doesn't make any sense to think about dimensionality of spin lattice\n",
    "        Keep spin lattice as 1d to make indexing simpler. Any concept of dimensionality is baked in with the coefficients\n",
    "        coeffs is dict containing sets of n-local coefficients\n",
    "        each key of the dict denotes n\n",
    "        for example: coeffs[2] is a 2d array of all 2-local coefficients\n",
    "        \"\"\"\n",
    "        assert max(coeffs_dct.keys()) <= 26, f\"Yeah... maybe you're asking for too much here\"\n",
    "        for locality, coeffs in coeffs_dct.items():\n",
    "            if locality >0:\n",
    "                assert len(coeffs.shape) == locality, f\"coefficients for key {locality} should have dimensionality {locality}\"\n",
    "        self.num_spins = num_spins # number of spins\n",
    "        self.coeffs_dct = coeffs_dct\n",
    "        # initialize system at infinite temperature\n",
    "        # i.e. spins are completely random and uncorrelated\n",
    "        self.spins = 2*(np.random.rand(self.num_spins) < 0.5) - 1\n",
    "        self.binary=binary\n",
    "        \n",
    "    def energy(self, spins=None):\n",
    "        spins = self.spins if spins is None else spins\n",
    "        # Binary mode for energy - Turning energy calc into 0,1 spins\n",
    "        if ( self.binary ) : spins = (spins+1)/2\n",
    "\n",
    "        energy = 0\n",
    "        for locality, coeffs in coeffs_dct.items():\n",
    "            if locality == 0:\n",
    "                energy += coeffs\n",
    "            else:\n",
    "                ixs = string.ascii_lowercase[:locality]\n",
    "                subscripts = ixs + ',' + ','.join(ixs)\n",
    "                operands = [coeffs] + [spins] * locality\n",
    "                energy += np.einsum(subscripts, *operands)\n",
    "        #print(\"En: \",energy, \"spins: \", spins)\n",
    "        return energy\n",
    "    \n",
    "    def energy_diff(self, i):\n",
    "        self.spins[i] *= -1\n",
    "        next_energy = self.energy()\n",
    "        self.spins[i] *= -1\n",
    "        current_energy = self.energy()\n",
    "        diff = next_energy - current_energy\n",
    "        return diff\n",
    "    \n",
    "    def rand_site(self):\n",
    "        \"\"\"Selects a site in the lattice at random\"\"\"\n",
    "        return (np.random.randint(self.num_spins),)"
   ]
  },
  {
   "cell_type": "markdown",
   "metadata": {},
   "source": [
    "Next you'll run a Monte Carlo simulation for this model at some finite temperature for 1000 steps, printing out the energy of the state every so often"
   ]
  },
  {
   "cell_type": "code",
   "execution_count": 5,
   "metadata": {
    "scrolled": false
   },
   "outputs": [
    {
     "name": "stdout",
     "output_type": "stream",
     "text": [
      "-0.19222515402425988\n",
      "-0.40205193171305936\n",
      "0.5724567781741282\n",
      "-0.485571076818599\n",
      "-0.25924181243352884\n",
      "-0.48557107681859907\n",
      "-0.333193379859456\n",
      "-0.485571076818599\n",
      "-0.333193379859456\n",
      "-1.1299047752322906\n",
      "-0.19222515402425988\n",
      "-0.4020519317130593\n",
      "-0.485571076818599\n",
      "-0.333193379859456\n",
      "-0.33319337985945613\n",
      "-1.1299047752322906\n",
      "0.5724567781741281\n",
      "-0.3331933798594562\n",
      "-0.40205193171305953\n",
      "-0.33319337985945613\n"
     ]
    }
   ],
   "source": [
    "coeffs_dct = {k: v for k, v in enumerate([E0, h, J, K, L])}\n",
    "ising = GeneralizedIsingModel(4, coeffs_dct)\n",
    "\n",
    "# perform 1000 MC steps\n",
    "for t in range(1000):\n",
    "    # take a look at the abstract_ising.py file to see how mc_step works\n",
    "    E = ising.mc_step(T=1.0)\n",
    "    \n",
    "    if t % 50 == 0:\n",
    "        print(E)"
   ]
  },
  {
   "cell_type": "markdown",
   "metadata": {},
   "source": [
    "Now, apply (one of) the annealing procedure(s) you came up with in the previous task to this problem to find a ground state of the system:"
   ]
  },
  {
   "cell_type": "code",
   "execution_count": 6,
   "metadata": {
    "scrolled": false
   },
   "outputs": [
    {
     "name": "stdout",
     "output_type": "stream",
     "text": [
      "Minimum energy found by brute force: -1.1299047752322906\n"
     ]
    },
    {
     "data": {
      "image/png": "[encoded data removed]",
      "text/plain": [
       "<Figure size 432x288 with 1 Axes>"
      ]
     },
     "metadata": {
      "needs_background": "light"
     },
     "output_type": "display_data"
    },
    {
     "data": {
      "image/png": "[encoded data removed]",
      "text/plain": [
       "<Figure size 432x288 with 1 Axes>"
      ]
     },
     "metadata": {
      "needs_background": "light"
     },
     "output_type": "display_data"
    },
    {
     "data": {
      "text/plain": [
       "-1.1299047752322906"
      ]
     },
     "execution_count": 6,
     "metadata": {},
     "output_type": "execute_result"
    }
   ],
   "source": [
    "# BRUTE FORCE CALCULATION\n",
    "def get_bf_min(ising, return_config=False):\n",
    "    dim = np.arange(2 ** ising.num_spins)\n",
    "    space = ((dim[:, None] & (1 << np.arange(ising.num_spins))) > 0)\n",
    "    space = 2*space.astype(int) - 1\n",
    "    energies = []\n",
    "    for config in space:\n",
    "        energies.append(ising.energy(config))\n",
    "    if return_config:\n",
    "        return min(energies), space[np.argmin(energies)]\n",
    "    else:\n",
    "        return min(energies)\n",
    "\n",
    "def plot_schedule(T):\n",
    "    t = range(len(T))\n",
    "    plt.plot(t, T)\n",
    "    plt.title(\"Temperature schedule\")\n",
    "    plt.ylabel(\"$T$\")\n",
    "    plt.xlabel(\"time\");\n",
    "    plt.show()\n",
    "\n",
    "# this is for all static annealing schedules\n",
    "def create_fixed_schedule(num_steps, T_i, T_f=1.0, form='const', cycle={}, show=True):\n",
    "    \"\"\"\n",
    "    we found linear decay is quite useless\n",
    "    also experimented with adding a exp(sin(t)) multiplier onto the baseline schedule\n",
    "    \"\"\"\n",
    "    implemented = [\n",
    "        'const', # constant\n",
    "        'exp', # exponential decay\n",
    "        'lin', # linear decay\n",
    "    ]\n",
    "    assert form in implemented, f\"form='{form}' not implemented\"\n",
    "    t = np.arange(num_steps+1)\n",
    "    if form == 'const':\n",
    "        T = [T_i] * num_steps\n",
    "    elif form == 'exp':\n",
    "        T = T_i * ((T_f/T_i) ** (t/num_steps))\n",
    "    elif form == 'lin':\n",
    "        T = T_i + (T_f - T_i) * (t/num_steps)\n",
    "    if len(cycle):\n",
    "        amp = cycle['amp']\n",
    "        period = cycle['p']\n",
    "        cyc = amp * np.sin(2*np.pi*np.arange(len(T))/period)\n",
    "        T = T * np.exp(cyc)\n",
    "    if show:\n",
    "        plot_schedule(T)\n",
    "    return T\n",
    "\n",
    "def plot_energy(Es):\n",
    "    plt.plot(Es)\n",
    "    plt.title(\"Energy\")\n",
    "    plt.ylabel(\"$E$\")\n",
    "    plt.xlabel(\"time\");\n",
    "    plt.show()\n",
    "\n",
    "    \n",
    "def run_mc(ising, num_steps, T, verbose=False, do_plot=False):\n",
    "    \"\"\"\n",
    "    Runs MC with a static T schedule\n",
    "    \"\"\"\n",
    "    Es = []\n",
    "    for t in range(num_steps):\n",
    "        E = ising.mc_step(T=T[t])\n",
    "        Es.append(E)\n",
    "        if verbose and t % 100 == 0:\n",
    "            print(E)\n",
    "    if do_plot:\n",
    "        plot_energy(Es)\n",
    "    if verbose:\n",
    "        print(f\"Minimum energy found by MC: {min(Es)}\")\n",
    "    return min(Es)\n",
    "\n",
    "bf_min = get_bf_min(ising)\n",
    "print(f\"Minimum energy found by brute force: {bf_min}\")\n",
    "T = create_fixed_schedule(1000, T_i=1, T_f=0.01, form='exp')\n",
    "run_mc(ising, len(T), T, do_plot=True)"
   ]
  },
  {
   "cell_type": "markdown",
   "metadata": {},
   "source": [
    "Finally, iterate over the entire spin configuration space (this is tractable since we only have 4 spins) to find the exact ground state energy. Compare this energy to the one you found above using your annealer."
   ]
  },
  {
   "cell_type": "code",
   "execution_count": 7,
   "metadata": {
    "scrolled": false
   },
   "outputs": [],
   "source": [
    "# already did this above"
   ]
  },
  {
   "cell_type": "markdown",
   "metadata": {},
   "source": [
    "Now, clean up your code a little, and write a for-loop that iterates over all the different values of the Hydrogen seperation distance $R$ available in the `hamiltonians` directory. \n",
    "\n",
    "For each $R$ you must:\n",
    "- Read in the associated Ising Hamiltonian\n",
    "- Perform an annealed Monte Carlo simulation to find a candidate ground state energy\n",
    "- Compute the exact ground state energy\n",
    "- Compare the two results"
   ]
  },
  {
   "cell_type": "code",
   "execution_count": 8,
   "metadata": {
    "scrolled": false
   },
   "outputs": [
    {
     "data": {
      "image/png": "[encoded data removed]",
      "text/plain": [
       "<Figure size 432x288 with 1 Axes>"
      ]
     },
     "metadata": {
      "needs_background": "light"
     },
     "output_type": "display_data"
    },
    {
     "name": "stdout",
     "output_type": "stream",
     "text": [
      "Radii: [0.65, 0.8, 0.95, 1.1, 1.25, 1.4, 1.55, 1.7, 1.85, 2.0, 2.15, 2.3, 2.45, 2.6, 2.75, 2.9, 3.05, 3.2, 3.35, 3.5]\n"
     ]
    },
    {
     "data": {
      "image/png": "[encoded data removed]",
      "text/plain": [
       "<Figure size 432x288 with 1 Axes>"
      ]
     },
     "metadata": {
      "needs_background": "light"
     },
     "output_type": "display_data"
    }
   ],
   "source": [
    "# get ranges from filenames\n",
    "\n",
    "# T schedule\n",
    "T = create_fixed_schedule(100, T_i=1, T_f=0.01, form='exp')\n",
    "\n",
    "Rs = [] # radii\n",
    "bf_mins = [] # minimum energies found in brute force evaluations\n",
    "mc_mins = [] # minimum energies found in MC evaluations\n",
    "\n",
    "for fp in os.listdir('hamiltonians'):\n",
    "    if 'inp' not in fp:\n",
    "        continue\n",
    "    R = re.search('=([0-9,\\.]+)\\.inp', fp).group(1)\n",
    "    Rs.append(float(R))\n",
    "    E0, h, J, K, L = read_generalized_ising_hamiltonian(f\"./hamiltonians/Ising-H2-STO-3G-bk-samespin-R={R}.inp\")\n",
    "    coeffs_dct = {k: v for k, v in enumerate([E0, h, J, K, L])}\n",
    "    ising = GeneralizedIsingModel(4, coeffs_dct)\n",
    "    bf_mins.append(get_bf_min(ising))\n",
    "    mc_mins.append(run_mc(ising, len(T), T))\n",
    "\n",
    "# plotting\n",
    "bf_mins = [x for _, x in sorted(zip(Rs, bf_mins))]\n",
    "mc_mins = [x for _, x in sorted(zip(Rs, mc_mins))]\n",
    "Rs = sorted(Rs)\n",
    "print(f'Radii: {Rs}')\n",
    "plt.plot(Rs, bf_mins)\n",
    "plt.plot(Rs, mc_mins, 'o')\n",
    "plt.title(\"Energy\")\n",
    "plt.ylabel(\"$E$\")\n",
    "plt.xlabel(\"radius\");\n",
    "plt.legend(['Brute force', 'Monte Carlo'])\n",
    "plt.show()"
   ]
  },
  {
   "cell_type": "markdown",
   "metadata": {},
   "source": [
    "## Working with 2-local version"
   ]
  },
  {
   "cell_type": "code",
   "execution_count": 9,
   "metadata": {
    "scrolled": false
   },
   "outputs": [
    {
     "name": "stdout",
     "output_type": "stream",
     "text": [
      "[0.6, 0.65, 0.7, 0.75, 0.8, 0.85, 0.9, 0.95, 1.0, 1.05, 1.1, 1.15, 1.2, 1.25, 1.3, 1.35, 1.4, 1.45, 1.5, 1.55, 1.6, 1.65, 1.7, 1.75, 1.8, 1.85, 1.9, 1.95, 2.0, 2.05, 2.1, 2.15, 2.2, 2.25, 2.3, 2.35, 2.4, 2.45, 2.5, 2.55, 2.6, 2.65, 2.7, 2.75, 2.8, 2.85, 2.9, 2.95, 3.0, 3.05, 3.1]\n"
     ]
    }
   ],
   "source": [
    "from quantum_H2_ising import GroundStateEnergy\n",
    "\n",
    "# GroundStateEnergy is a class from Task 1 which, among other things, returns 2-local qubo coefficients\n",
    "H2 = GroundStateEnergy('H2_coefficients_exact_simulated.csv')\n",
    "Rs_2 = H2.get_available_R()"
   ]
  },
  {
   "cell_type": "code",
   "execution_count": 10,
   "metadata": {
    "scrolled": false
   },
   "outputs": [
    {
     "data": {
      "image/png": "[encoded data removed]",
      "text/plain": [
       "<Figure size 432x288 with 1 Axes>"
      ]
     },
     "metadata": {
      "needs_background": "light"
     },
     "output_type": "display_data"
    },
    {
     "data": {
      "image/png": "[encoded data removed]",
      "text/plain": [
       "<Figure size 432x288 with 1 Axes>"
      ]
     },
     "metadata": {
      "needs_background": "light"
     },
     "output_type": "display_data"
    }
   ],
   "source": [
    "T = create_fixed_schedule(10, T_i=1, T_f=0.01, form='exp')\n",
    "\n",
    "bf_mins_2 = []\n",
    "mc_mins_2 = []\n",
    "\n",
    "for R in Rs_2:\n",
    "    q_values = H2.get_qubo_coeffs(R)\n",
    "    # ising coeffs {'a': c_a, 'b': c_a}, {('a', 'b'): c_b}\n",
    "    h = np.array([q_values['c_a'], q_values['c_a']])\n",
    "    J = np.array([[0, q_values['c_b']], [0, 0]])\n",
    "    coeffs_dct = {1: h, 2: J}\n",
    "    ising = GeneralizedIsingModel(2, coeffs_dct)\n",
    "    _, bf_min_spins = get_bf_min(ising, return_config=True)\n",
    "    bf_min = H2.get_energy_from_ising_spins(R, *bf_min_spins)\n",
    "    bf_mins_2.append(bf_min)\n",
    "    run_mc(ising, len(T), T)\n",
    "    mc_mins_2.append(H2.get_energy_from_ising_spins(R, *ising.spins))\n",
    "\n",
    "# map Rs_2 to half width to match with RsAs\n",
    "Rs_2 = list(map(lambda x: x/2, Rs_2))\n",
    "    \n",
    "# plotting\n",
    "plt.plot(Rs, bf_mins)\n",
    "plt.plot(Rs, mc_mins, 'o')\n",
    "plt.plot(Rs_2, bf_mins_2)\n",
    "plt.plot(Rs_2, mc_mins_2, '.')\n",
    "plt.title(\"Energy\")\n",
    "plt.ylabel(\"$E$\")\n",
    "plt.xlabel(\"radius\");\n",
    "plt.legend(['4-local, brute force', '4-local, Monte Carlo', '2-local, brute force', '2-local, Monte Carlo'])\n",
    "plt.show()"
   ]
  },
  {
   "cell_type": "markdown",
   "metadata": {},
   "source": [
    "# Challenge 4 - Example for Transportation industry - Operating Crew Routing\n",
    "\n",
    "We attempt to apply a k-local method to solving a TSP routing problem of k nodes to connect in a specific order and at lowest cost.\n",
    "\n",
    "Problem: We have 4 route segments to order in 1 or more cycles, at least cost across all cycles. \n",
    "Use case: 4 flights requiring pilots. \n",
    "          Pilots live at airport A. \n",
    "          Order the flight segments in groups (trips) which allow a pilot to start at A and return to A\n",
    "          Create the optimum number of trips as it translates to minimum number of pilots\n",
    "          Sequence the flights such that they start where the previous ended (A->B, B->C, C->D, ...)\n",
    "          \n",
    "## Source code \n",
    "\n",
    "We are reusing our code from the hackathon providing support for loading a flight network and solving on the DWave.\n",
    "However we only use the code to load the data set that we are interested in benchmarking the Monte Carlo Thermal Anneling on."
   ]
  },
  {
   "cell_type": "code",
   "execution_count": 11,
   "metadata": {
    "scrolled": false
   },
   "outputs": [],
   "source": [
    "from flightHelper import *"
   ]
  },
  {
   "cell_type": "code",
   "execution_count": 12,
   "metadata": {
    "scrolled": false
   },
   "outputs": [
    {
     "name": "stdout",
     "output_type": "stream",
     "text": [
      "Minimum Dep 600\n",
      "Maximum Arr 1125\n"
     ]
    },
    {
     "data": {
      "image/png": "[encoded data removed]",
      "text/plain": [
       "<Figure size 432x288 with 1 Axes>"
      ]
     },
     "metadata": {},
     "output_type": "display_data"
    }
   ],
   "source": [
    "gen = Anneal(dataset=\"\",homebases={ \"LCA\" : 1 },atypes=[],depday=1)\n",
    "\n",
    "G1 = gen.buildViewGraph()\n",
    "pos = nx.circular_layout(G1)\n",
    "nx.draw_networkx(G1, pos=pos, node_size=400 , alpha=1)"
   ]
  },
  {
   "cell_type": "code",
   "execution_count": 13,
   "metadata": {
    "scrolled": false
   },
   "outputs": [],
   "source": [
    "# Build the pairwise interactions\n",
    "\n",
    "connections = np.zeros([gen.getN(),gen.getN()])\n",
    "\n",
    "for s in gen.segments:\n",
    "    #print(s.obj.id, end=\" \")\n",
    "    for t in gen.segments:\n",
    "        if (( t.obj.id > s.obj.id )and (s.obj.arr == t.obj.dep)):\n",
    "            #print(gap(s.obj,t.obj), end=\"  \")\n",
    "            connections[s.obj.id-1,t.obj.id-1] = gap(s.obj,t.obj)\n",
    "        else:\n",
    "            #print(0,end=\"  \")\n",
    "            connections[s.obj.id-1,t.obj.id-1] = 0"
   ]
  },
  {
   "cell_type": "code",
   "execution_count": 14,
   "metadata": {
    "scrolled": false
   },
   "outputs": [
    {
     "name": "stdout",
     "output_type": "stream",
     "text": [
      "[[  0.  60.   0. 340.]\n",
      " [  0.   0.  30.   0.]\n",
      " [  0.   0.   0.  65.]\n",
      " [  0.   0.   0.   0.]]\n"
     ]
    }
   ],
   "source": [
    "print(connections)"
   ]
  },
  {
   "cell_type": "markdown",
   "metadata": {},
   "source": [
    "## Model and Energy formulation\n",
    "\n",
    "We create a 4 step by 4 nodes plus one begin state bit (4 x 5 qubits)\n",
    "\n",
    "This forms a 2D matrix.\n",
    "\n",
    "Each node qubit index = r * R + n, where R is the number of nodes per row, r is the row (0 to N-1) and n is the node id (0 to N-1)\n",
    "\n",
    "We also have state qubit index =  r * R + R - 1 indicating if the row r is a start or a continuation in a cycle\n"
   ]
  },
  {
   "cell_type": "markdown",
   "metadata": {},
   "source": [
    "Energy = H = HA + HB\n",
    "\n",
    "    HA = constraints penalty (applies a weight in equivalent minutes)\n",
    "\n",
    "    HB = cost function (counts numberof minutes)\n",
    "\n",
    "  \n"
   ]
  },
  {
   "cell_type": "code",
   "execution_count": 15,
   "metadata": {
    "scrolled": false
   },
   "outputs": [
    {
     "name": "stdout",
     "output_type": "stream",
     "text": [
      "We use 20 spins\n"
     ]
    }
   ],
   "source": [
    "N = gen.getN() # Number of nodes\n",
    "R = N+1 # Accomodate 1 state bit for each row\n",
    "W = 10000       # Penalty minutes. We choose 10000 because it is approx 7 days\n",
    "\n",
    "n_spins = N*R\n",
    "print(\"We use\", n_spins, \"spins\")\n",
    "\n",
    "# Apply a weight when a segment is selected as a start but its not at a home base\n",
    "\n",
    "E1 = 0.0\n",
    "HA1 = np.zeros([n_spins,n_spins])\n",
    "E1 += 1.0\n",
    "P = W * 2\n",
    "for r in range(N):\n",
    "    s = r * R + R - 1\n",
    "    for n in range(N): # We go up to N. N+1 (R) is for the start bits\n",
    "        isBase = gen.segments[n].obj.dep in gen.getHomeBases()\n",
    "        # qubit_s x qubit_n x !isBase x W \n",
    "        i = r * N + n\n",
    "        # In Ising all 0,1 states need to be -1,+1 : Xi = ( Si + 1 ) / 2\n",
    "        HA1[s,i] = ((not isBase) * P) / 2\n",
    "\n",
    "#print(len(HA1))\n",
    "#print(HA1)\n",
    "\n",
    "# Apply a weight to invalid connection\n",
    "\n",
    "E2 = 0.0\n",
    "N2 = N\n",
    "P = W\n",
    "HA2h = np.zeros([n_spins])\n",
    "HA2 = np.zeros([n_spins,n_spins])\n",
    "\n",
    "for n1 in range(N):\n",
    "    for n2 in range(N):\n",
    "        # Not a valid edge: Penalize\n",
    "        if ((n1!=n2) and (connections[n1,n2]<=0)):\n",
    "            for r in range(N-1):\n",
    "                q1 = r * R + n1\n",
    "                HA2[q1,q1] -= P\n",
    "                q2 = (r+1) * R + n2\n",
    "                HA2[q2,q2] -= P\n",
    "                if ( q1 < q2 ):\n",
    "                    HA2[q1,q2] += 2 * P \n",
    "\n",
    "\n",
    "# Apply a penalty if we have more than 1 selection per row\n",
    "# Use N2 to represet N so it can be changed\n",
    "\n",
    "N2 = 1\n",
    "P = W * 100\n",
    "E3 = 0.0\n",
    "HA3h = np.zeros([n_spins])\n",
    "HA3J = np.zeros([n_spins,n_spins])\n",
    "E3 += P * ( 1 - 2 * N2 )\n",
    "for r in range(N):\n",
    "    for n1 in range(N):\n",
    "        q1 = r * R + n1\n",
    "        HA3h[q1] += -P # P * (3 - 4 * N2) \n",
    "        for n2 in range(n1+1, N):\n",
    "            q2 = r * R + n2\n",
    "            if ( q2>q1 ):\n",
    "                HA3J[q1,q2] += P * 2 \n",
    "                \n",
    "# Apply a penalty if we have more than 1 selection per column             \n",
    "\n",
    "N2 = 1\n",
    "P = W * 100\n",
    "E4 = 0.0\n",
    "HA4h = np.zeros([n_spins])\n",
    "HA4J = np.zeros([n_spins,n_spins])\n",
    "E4 += P * ( 1 - 2 * N2 )\n",
    "for n1 in range(N):\n",
    "    for r1 in range(N):\n",
    "        q1 = r1 * R + n1\n",
    "        HA4h[q1] += -P # * (3 - 4 * N2) \n",
    "        for r2 in range(r1+1, N):\n",
    "            q2 = r2 * R + n1\n",
    "            if ( q2>q1 ):\n",
    "                HA4J[q1,q2] += P * 2\n",
    "\n",
    "# Apply a penalty if we do not have N qubit selected             \n",
    "\n",
    "N2 = N\n",
    "P = W*100\n",
    "E5 = 0.0\n",
    "HA5h = np.zeros([n_spins])\n",
    "HA5J = np.zeros([n_spins,n_spins])\n",
    "\n",
    "# h = 1 + 2N (N-1)\n",
    "# J = 2 (for top half triangle)\n",
    "# E0 = (N(N-1))**2\n",
    "# Scan the actual N qubit ids\n",
    "E5 = P * N2**2 # (N2 * ( N2 - 1 )) ** 2\n",
    "for q in range(N*R):\n",
    "    if ( ((q+1) % R ) != 0 ):\n",
    "        HA5h[q] +=  P * (1 - 2 * N2) # ( 1 + 2 * N2 * ( N2-1 ) )\n",
    "        for q2 in range(q+1,N*R):\n",
    "            if ( ((q2+1) % R) != 0 ):\n",
    "                if ( q2>q):\n",
    "                    HA5J[q,q2] += P * 2 \n",
    "            \n",
    "            \n",
    "# Cost objective function. Add time gaps and CICO times at start of cycles\n",
    "\n",
    "E6 = 0.0\n",
    "CICO=90\n",
    "P = W\n",
    "HB6h = np.zeros([n_spins])\n",
    "HB6 = np.zeros([n_spins,n_spins])\n",
    "\n",
    "# Set the first row start \n",
    "HB6h[R-1] = -P * 100000\n",
    "\n",
    "for r in range(N-1):\n",
    "    r2 = r + 1\n",
    "    s1 = r * R + R - 1\n",
    "    s2 = r2 * R + R - 1\n",
    "    for n1 in range(N):\n",
    "        q1 = r * R + n1\n",
    "        # Penalize segments that do not start at home base\n",
    "        if ( gen.segments[n1].obj.dep in gen.getHomeBases()):\n",
    "            HB6h[q1] += -P\n",
    "        #else:\n",
    "        #    HB6h[q1] += +P\n",
    "        \n",
    "        # Penalize same row items\n",
    "        for n2 in range(n1+1,N):\n",
    "            q2 = r * R + n2\n",
    "            HB6[q1,q2] += 10000 * P\n",
    "        \n",
    "        # Add connect connection times\n",
    "        # If we have a start cycle, remove base penalty \n",
    "        for n2 in range(N):\n",
    "            if (n1!=n2):\n",
    "                q2 = r2 * R + n2\n",
    "                if ( q1 < q2 ):\n",
    "                    HB6[q1,q2] = connections[n1,n2] \n",
    "                    HB6[s1,q1] = -P + CICO\n",
    "\n",
    "# const 7 - Steering step by step\n",
    "E7 = 0.0\n",
    "P = W\n",
    "HB7h = np.zeros([n_spins])\n",
    "HB7J = np.zeros([n_spins,n_spins])\n",
    "\n",
    "# Set the first row start \n",
    "HB7h[R-1] = -P \n",
    "\n",
    "# Prevent same row assignments\n",
    "for r in range(N):\n",
    "    #print( \"Row \", r)\n",
    "    for n1 in range(N):\n",
    "        q1 = r * R + n1\n",
    "        for n2 in range(N):\n",
    "            if ( n1!=n2):\n",
    "                q2 = r * R + n2\n",
    "                #print(\"q1,q2 = \", q1, q2)\n",
    "                HB7J[q1,q2] += P\n",
    "\n",
    "\n"
   ]
  },
  {
   "cell_type": "markdown",
   "metadata": {},
   "source": [
    "## Discussion about Spins vs Binary\n",
    "\n",
    "For the purpose of a routing optimizer, using -1/+1 spins for energy calculations did not allow for applying the proper control on the constraints. We added a \"binary\" option to the energy function which essentially converts the ising spins to binary spins. This has given traction on creating workable constraints.\n",
    "\n",
    "## Discussion about the constraints\n",
    "\n",
    "We have been able to incrementally add constraints to steer the quality toward the ultimate goal.\n",
    "The code comments below explain our method.\n",
    "\n",
    "The optimizer succeeds at limiting one node per row, each node used only once. \n",
    "The next step is to implement the cost function that totals up the wait time between segments and the effect of signaling the start of a new cycle on cost.\n",
    "\n",
    "We have used up to 2 local variables to describe the constraints. It is not yet clear where using 3 or more would provide additional benefits. \n",
    "\n"
   ]
  },
  {
   "cell_type": "code",
   "execution_count": 16,
   "metadata": {
    "scrolled": true
   },
   "outputs": [
    {
     "data": {
      "image/png": "[encoded data removed]",
      "text/plain": [
       "<Figure size 432x288 with 1 Axes>"
      ]
     },
     "metadata": {
      "needs_background": "light"
     },
     "output_type": "display_data"
    }
   ],
   "source": [
    "E0 = 0.0\n",
    "h = np.zeros(n_spins)\n",
    "J = np.zeros([n_spins,n_spins])\n",
    "K = np.zeros([n_spins,n_spins,n_spins])\n",
    "L = np.zeros([n_spins,n_spins,n_spins,n_spins])\n",
    "\n",
    "# Rebuilding constraints sequence for 0/1 method\n",
    "# (1) Select exactly 4 nodes - use const 5 \n",
    "#     Success: We get exactly 4 random segments\n",
    "# (2) Select exactly 1 node per row - use const 3\n",
    "#     Success: We get only one selection per row and we continue to only have 4 total\n",
    "# (3) Select nodes in only one row - use const  4\n",
    "#     Success: We get 4 nodes, 1 per row and only used once\n",
    "# (4) Set P for the above 3 constraints from 1 to W\n",
    "#     FAIL: Result goes bonkers. Leaving P as 1 for now\n",
    "#     Success: After increasing optim steps to 2000\n",
    "# (5) Apply W to pairwise non-connectors - const 2\n",
    "#     FAIL: Weight imbalances. Expand P to W*100 for (1) (2) and (3)\n",
    "#     Better: Now increase P to W\n",
    "#     Better: Increase steps\n",
    "#     FAIL: Unable to get best solution. \n",
    "#     Turning of this constraint for best result for discussion (despite shortcomings)\n",
    "\n",
    "\n",
    "# const 1\n",
    "#E0 += E1 \n",
    "#J += HA1\n",
    "\n",
    "# const 2 - Valid connections\n",
    "#E0 += E2 \n",
    "#J += HA2\n",
    "\n",
    "# const 3 - One per Row\n",
    "\n",
    "E0 += E3\n",
    "h += HA3h\n",
    "J += HA3J\n",
    "\n",
    "# const 4 - One per column\n",
    "\n",
    "E0 += E4\n",
    "h += HA4h\n",
    "J += HA4J\n",
    "\n",
    "# const 5 - We want N selections overall\n",
    "\n",
    "E0 += E5\n",
    "h += HA5h\n",
    "J += HA5J\n",
    "\n",
    "# Objective const 6 - Connect time\n",
    "\n",
    "#E0 += E6\n",
    "#h += HB6h\n",
    "#J += HB6\n",
    "\n",
    "#h += HB7h\n",
    "#J += HB7J\n",
    "\n",
    "steps = 10000\n",
    "T = create_fixed_schedule(steps, T_i=1, T_f=0.01, form='const')\n",
    "\n",
    "bf_mins = [] # minimum energies found in brute force evaluations\n",
    "mc_mins = [] # minimum energies found in MC evaluations\n",
    "\n",
    "# For reference\n",
    "# E0, h, J, K, L = read_generalized_ising_hamiltonian(f\"./hamiltonians/Ising-H2-STO-3G-bk-samespin-R={R}.inp\")\n",
    "\n",
    "# Adapt this to the transport model\n",
    "\n",
    "\n",
    "#coeffs_dct = {k: v for k, v in enumerate([E0, h, J, K, L])}\n",
    "#coeffs_dct = { 0: E0, 1: h, 2 : J, 3 : K, 4: L  }\n",
    "coeffs_dct = { 0: E0, 1: h, 2 : J }\n",
    "#coeffs_dct = {  2 : J  }\n",
    "\n",
    "ising = GeneralizedIsingModel(n_spins, coeffs_dct, binary=True)\n",
    "\n",
    "bf_mins.append(get_bf_min(ising))\n",
    "mc_mins.append(run_mc(ising, len(T), T))\n",
    "\n"
   ]
  },
  {
   "cell_type": "code",
   "execution_count": 17,
   "metadata": {
    "scrolled": false
   },
   "outputs": [
    {
     "name": "stdout",
     "output_type": "stream",
     "text": [
      "[-10000000.0] [-10000000.0]\n",
      "[0. 0. 0. 1. 0. 0. 1. 0. 0. 1. 1. 0. 0. 0. 0. 0. 0. 1. 0. 1.]\n",
      "Energy:  -10000000.0\n"
     ]
    }
   ],
   "source": [
    "print(bf_mins, mc_mins)\n",
    "print((ising.spins+1)/2)\n",
    "print(\"Energy: \", ising.energy())"
   ]
  },
  {
   "cell_type": "code",
   "execution_count": 18,
   "metadata": {
    "scrolled": false
   },
   "outputs": [
    {
     "name": "stdout",
     "output_type": "stream",
     "text": [
      ".      3 X04: ATH-LCA / \n",
      "S      1 X02: ATH-LCA / \n",
      ".      0 X01: LCA-ATH / \n",
      "S      2 X03: LCA-ATH / \n"
     ]
    }
   ],
   "source": [
    "def segd(id):\n",
    "    return '{} {}: {}-{}'.format(id,gen.segments[id].obj.lab,gen.segments[id].obj.dep, gen.segments[id].obj.arr)\n",
    "\n",
    "def spinup(q):\n",
    "    return ((ising.spins[q]+1)/2 == 1)\n",
    "    \n",
    "for r in range(N):\n",
    "    s = r * R + R - 1\n",
    "    if spinup(s):\n",
    "        print(\"S \", end=\"\")\n",
    "    else: \n",
    "        print(\". \", end=\"\")    \n",
    "    for n in range(N):\n",
    "        q = r * R + n\n",
    "        if spinup(q):\n",
    "            print(\"    \", segd(n), end=\" / \")\n",
    "    print(\"\")\n"
   ]
  },
  {
   "cell_type": "code",
   "execution_count": null,
   "metadata": {
    "scrolled": false
   },
   "outputs": [],
   "source": []
  },
  {
   "cell_type": "code",
   "execution_count": null,
   "metadata": {
    "scrolled": true
   },
   "outputs": [],
   "source": []
  }
 ],
 "metadata": {
  "kernelspec": {
   "display_name": "Python 3",
   "language": "python",
   "name": "python3"
  },
  "language_info": {
   "codemirror_mode": {
    "name": "ipython",
    "version": 3
   },
   "file_extension": ".py",
   "mimetype": "text/x-python",
   "name": "python",
   "nbconvert_exporter": "python",
   "pygments_lexer": "ipython3",
   "version": "3.7.6"
  }
 },
 "nbformat": 4,
 "nbformat_minor": 4
}
